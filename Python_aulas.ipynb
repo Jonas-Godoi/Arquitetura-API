{
  "nbformat": 4,
  "nbformat_minor": 0,
  "metadata": {
    "colab": {
      "provenance": [],
      "authorship_tag": "ABX9TyPuRJCKhNqQqLM6DpU4rf87",
      "include_colab_link": true
    },
    "kernelspec": {
      "name": "python3",
      "display_name": "Python 3"
    },
    "language_info": {
      "name": "python"
    }
  },
  "cells": [
    {
      "cell_type": "markdown",
      "metadata": {
        "id": "view-in-github",
        "colab_type": "text"
      },
      "source": [
        "<a href=\"https://colab.research.google.com/github/Jonas-Godoi/Arquitetura-API/blob/main/Python_aulas.ipynb\" target=\"_parent\"><img src=\"https://colab.research.google.com/assets/colab-badge.svg\" alt=\"Open In Colab\"/></a>"
      ]
    },
    {
      "cell_type": "code",
      "execution_count": 15,
      "metadata": {
        "colab": {
          "base_uri": "https://localhost:8080/"
        },
        "collapsed": true,
        "id": "Wg-yEwhmxfWv",
        "outputId": "bad74ab3-defd-4878-a2b9-a9466cc698ea"
      },
      "outputs": [
        {
          "output_type": "stream",
          "name": "stdout",
          "text": [
            "Quantidade de dna A: 9709674\n",
            "Quantidade de dna G: 5421151\n",
            "Quantidade de dna C: 5435374\n",
            "Quantidade de dna T: 9697113\n",
            "\n",
            "Percentual de DNA A: 31.46%\n",
            "Percentual de DNA T: 31.42%\n",
            "Percentual de DNA G: 17.57%\n",
            "Percentual de DNA C: 17.61%\n"
          ]
        }
      ],
      "source": [
        "# encoding:utf-8\n",
        "\n",
        "def ler_fasta(arquivo):\n",
        "    sequencia = ''\n",
        "    lista = []\n",
        "    with open(arquivo, 'r') as fasta:\n",
        "            sequencia = ''\n",
        "            for linha in fasta:\n",
        "                if not linha.startswith('>'):\n",
        "                    sequencia += linha\n",
        "            lista.append(sequencia)\n",
        "\n",
        "    return lista\n",
        "\n",
        "# testando...\n",
        "lista = ler_fasta(\"sequence.fasta\")\n",
        "\n",
        "def contarA(dna):\n",
        "  return dna[0].count('A')\n",
        "def contarG(dna):\n",
        "  return dna[0].count('G')\n",
        "def contarC(dna):\n",
        "  return dna[0].count('C')\n",
        "def contarT(dna):\n",
        "  return dna[0].count('T')\n",
        "\n",
        "QuantidadeA = contarA(lista)\n",
        "QuantidadeG = contarG(lista)\n",
        "QuantidadeC = contarC(lista)\n",
        "QuantidadeT = contarT(lista)\n",
        "\n",
        "print(\"Quantidade de dna A:\", QuantidadeA)\n",
        "print(\"Quantidade de dna G:\", QuantidadeG)\n",
        "print(\"Quantidade de dna C:\", QuantidadeC)\n",
        "print(\"Quantidade de dna T:\", QuantidadeT)\n",
        "\n",
        "print('')\n",
        "quantidade_total = len(lista[0])\n",
        "\n",
        "percentual_a = (QuantidadeA / quantidade_total) * 100\n",
        "percentual_t = (QuantidadeT / quantidade_total) * 100\n",
        "percentual_g = (QuantidadeG / quantidade_total) * 100\n",
        "percentual_c = (QuantidadeC / quantidade_total) * 100\n",
        "\n",
        "# Exibir os percentuais\n",
        "print(f\"Percentual de DNA A: {percentual_a:.2f}%\")\n",
        "print(f\"Percentual de DNA T: {percentual_t:.2f}%\")\n",
        "print(f\"Percentual de DNA G: {percentual_g:.2f}%\")\n",
        "print(f\"Percentual de DNA C: {percentual_c:.2f}%\")"
      ]
    }
  ]
}